{
 "cells": [
  {
   "cell_type": "code",
   "execution_count": 1,
   "metadata": {},
   "outputs": [
    {
     "ename": "SyntaxError",
     "evalue": "invalid character in identifier (<ipython-input-1-cc0f46760acb>, line 4)",
     "output_type": "error",
     "traceback": [
      "\u001b[0;36m  File \u001b[0;32m\"<ipython-input-1-cc0f46760acb>\"\u001b[0;36m, line \u001b[0;32m4\u001b[0m\n\u001b[0;31m    stemmer = SnowballStemmer(“english”)\u001b[0m\n\u001b[0m                                      ^\u001b[0m\n\u001b[0;31mSyntaxError\u001b[0m\u001b[0;31m:\u001b[0m invalid character in identifier\n"
     ]
    }
   ],
   "source": [
    "import nltk\n",
    "\n",
    "from nltk.stem import SnowballStemmer\n",
    "stemmer = SnowballStemmer(“english”)\n",
    "import numpy as np\n",
    "import pandas as pd\n",
    "from nltk.corpus import stopwords\n",
    "from nltk.tokenize import word_tokenize\n",
    "\n",
    "with open('trial2.txt', 'r') as myfile:\n",
    "    data2=myfile.read().replace('\\n', ' ')\n",
    "\n",
    "sp=set(stopwords.words(\"english\"))\n",
    "variable = nltk.word_tokenize(data2)\n",
    "sp2 = [stemmer.stem(w) for w in sp]\n",
    "variable2 = [stemmer.stem(w) for w in variable]\n",
    "filtered_sentence = [w for w in variable2 if not w in sp2]\n",
    "a=\" \".join(filtered_sentence)\n",
    "sent = nltk.sent_tokenize(a)\n",
    "print(a)"
   ]
  },
  {
   "cell_type": "code",
   "execution_count": null,
   "metadata": {},
   "outputs": [],
   "source": []
  }
 ],
 "metadata": {
  "kernelspec": {
   "display_name": "Python 3",
   "language": "python",
   "name": "python3"
  },
  "language_info": {
   "codemirror_mode": {
    "name": "ipython",
    "version": 3
   },
   "file_extension": ".py",
   "mimetype": "text/x-python",
   "name": "python",
   "nbconvert_exporter": "python",
   "pygments_lexer": "ipython3",
   "version": "3.6.3"
  }
 },
 "nbformat": 4,
 "nbformat_minor": 2
}
